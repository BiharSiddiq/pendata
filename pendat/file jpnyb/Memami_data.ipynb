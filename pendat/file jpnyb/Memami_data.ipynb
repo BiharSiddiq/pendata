{
  "nbformat": 4,
  "nbformat_minor": 0,
  "metadata": {
    "colab": {
      "provenance": []
    },
    "kernelspec": {
      "name": "python3",
      "display_name": "Python 3"
    },
    "language_info": {
      "name": "python"
    }
  },
  "cells": [
    {
      "cell_type": "markdown",
      "source": [
        "\n",
        "## Memahami Data\n",
        "\n",
        "Berikan diskripsi apa itu memahami data dalam penambangan data\n",
        "\n",
        "Beberapa kegiatan  dalam memahami diantaranya adalah:\n",
        "\n",
        "\n",
        "*   Pengumpulan data\n",
        "*   Profilling data\n",
        "*   Ekplorasi data\n",
        "*   .......\n",
        "\n"
      ],
      "metadata": {
        "id": "9LHWTDGv5zhh"
      }
    },
    {
      "cell_type": "markdown",
      "source": [
        "### Pengumpulan data terkait dengan IRIS Dataset\n",
        "(Jelaskan dimana data yang harus anda kumpulkan dan berikan penjelasan bagaimana cara mengumpulkan data tersebut :)\n",
        "\n",
        "Data iris berada di ....."
      ],
      "metadata": {
        "id": "05NcJiqY6cvl"
      }
    },
    {
      "cell_type": "code",
      "execution_count": null,
      "metadata": {
        "colab": {
          "base_uri": "https://localhost:8080/"
        },
        "id": "xfakTrvlEHLN",
        "outputId": "cf71a68b-7f38-4de4-a10f-cb01c31af2ed"
      },
      "outputs": [
        {
          "output_type": "stream",
          "name": "stdout",
          "text": [
            "Collecting pymysql\n",
            "  Downloading PyMySQL-1.1.1-py3-none-any.whl.metadata (4.4 kB)\n",
            "Downloading PyMySQL-1.1.1-py3-none-any.whl (44 kB)\n",
            "\u001b[?25l   \u001b[90m━━━━━━━━━━━━━━━━━━━━━━━━━━━━━━━━━━━━━━━━\u001b[0m \u001b[32m0.0/45.0 kB\u001b[0m \u001b[31m?\u001b[0m eta \u001b[36m-:--:--\u001b[0m\r\u001b[2K   \u001b[90m━━━━━━━━━━━━━━━━━━━━━━━━━━━━━━━━━━━━━━━━\u001b[0m \u001b[32m45.0/45.0 kB\u001b[0m \u001b[31m2.6 MB/s\u001b[0m eta \u001b[36m0:00:00\u001b[0m\n",
            "\u001b[?25hInstalling collected packages: pymysql\n",
            "Successfully installed pymysql-1.1.1\n"
          ]
        }
      ],
      "source": [
        "!pip install pymysql"
      ]
    },
    {
      "cell_type": "code",
      "source": [
        "!pip install psycopg2"
      ],
      "metadata": {
        "colab": {
          "base_uri": "https://localhost:8080/"
        },
        "id": "fBYiDVAxENMr",
        "outputId": "d35451ce-4b0c-46b5-9514-4343df66aca2"
      },
      "execution_count": null,
      "outputs": [
        {
          "output_type": "stream",
          "name": "stdout",
          "text": [
            "Requirement already satisfied: psycopg2 in /usr/local/lib/python3.11/dist-packages (2.9.10)\n"
          ]
        }
      ]
    },
    {
      "cell_type": "markdown",
      "source": [
        "Beriku tahaapan proses pengumpulan data dari mysql"
      ],
      "metadata": {
        "id": "7ddQlP107Z56"
      }
    },
    {
      "cell_type": "code",
      "source": [
        "import pymysql\n",
        "\n",
        "# Step 1: Connect to the MySQL server (without specifying a database)\n",
        "connection = pymysql.connect(\n",
        "    host='....',        # Host where the MySQL server is located\n",
        "    user='avnadmin',    # Your MySQL username\n",
        "    port=16763,\n",
        "    password='' # Your MySQL password\n",
        ")\n",
        "\n",
        "try:\n",
        "    # Step 2: Create a cursor object\n",
        "    with connection.cursor() as cursor:\n",
        "        # Step 3: Execute the CREATE DATABASE statement\n",
        "        sql = \"CREATE DATABASE IF NOT EXISTS house\"\n",
        "        cursor.execute(sql)\n",
        "        print(\"Database 'my_new_database' created successfully.\")\n",
        "finally:\n",
        "    # Step 4: Close the connection\n",
        "    connection.close()"
      ],
      "metadata": {
        "colab": {
          "base_uri": "https://localhost:8080/"
        },
        "id": "p5wKWkZVEhH7",
        "outputId": "c20b466c-5dc7-48ad-e940-14a9d46fe7f0"
      },
      "execution_count": null,
      "outputs": [
        {
          "output_type": "stream",
          "name": "stdout",
          "text": [
            "Database 'my_new_database' created successfully.\n"
          ]
        }
      ]
    },
    {
      "cell_type": "markdown",
      "source": [
        "Berikut pengumpulan data dari Postrgesql"
      ],
      "metadata": {
        "id": "K46iT3t67gM_"
      }
    },
    {
      "cell_type": "markdown",
      "source": [
        "Berikut cara menggabungkan data"
      ],
      "metadata": {
        "id": "e4uq_HU47wAO"
      }
    },
    {
      "cell_type": "code",
      "source": [],
      "metadata": {
        "id": "x6X14InK7fMw"
      },
      "execution_count": null,
      "outputs": []
    },
    {
      "cell_type": "markdown",
      "source": [
        "### Ekplorasi data set IRIS\n",
        "\n",
        "Silahkan ekplorasi data iris"
      ],
      "metadata": {
        "id": "zlfSY0_j7qbm"
      }
    },
    {
      "cell_type": "markdown",
      "source": [
        "### Profiling data set IRIS\n",
        "\n",
        "Silahkan ekplorasi data iris"
      ],
      "metadata": {
        "id": "eX6CfUsa_yN9"
      }
    }
  ]
}